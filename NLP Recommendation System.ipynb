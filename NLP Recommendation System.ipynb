{
 "cells": [
  {
   "cell_type": "markdown",
   "id": "hollow-heaven",
   "metadata": {},
   "source": [
    "#### Import the libraries and load the data"
   ]
  },
  {
   "cell_type": "code",
   "execution_count": 1,
   "id": "preliminary-forty",
   "metadata": {},
   "outputs": [],
   "source": [
    "import pandas as pd\n",
    "import numpy as np\n",
    "import random\n",
    "from tqdm import tqdm\n",
    "from gensim.models import Word2Vec \n",
    "import matplotlib.pyplot as plt\n",
    "%matplotlib inline\n",
    "\n",
    "import warnings;\n",
    "warnings.filterwarnings('ignore')"
   ]
  },
  {
   "cell_type": "code",
   "execution_count": 2,
   "id": "associate-lobby",
   "metadata": {},
   "outputs": [
    {
     "data": {
      "text/html": [
       "<div>\n",
       "<style scoped>\n",
       "    .dataframe tbody tr th:only-of-type {\n",
       "        vertical-align: middle;\n",
       "    }\n",
       "\n",
       "    .dataframe tbody tr th {\n",
       "        vertical-align: top;\n",
       "    }\n",
       "\n",
       "    .dataframe thead th {\n",
       "        text-align: right;\n",
       "    }\n",
       "</style>\n",
       "<table border=\"1\" class=\"dataframe\">\n",
       "  <thead>\n",
       "    <tr style=\"text-align: right;\">\n",
       "      <th></th>\n",
       "      <th>InvoiceNo</th>\n",
       "      <th>StockCode</th>\n",
       "      <th>Description</th>\n",
       "      <th>Quantity</th>\n",
       "      <th>InvoiceDate</th>\n",
       "      <th>UnitPrice</th>\n",
       "      <th>CustomerID</th>\n",
       "      <th>Country</th>\n",
       "    </tr>\n",
       "  </thead>\n",
       "  <tbody>\n",
       "    <tr>\n",
       "      <th>0</th>\n",
       "      <td>536365</td>\n",
       "      <td>85123A</td>\n",
       "      <td>WHITE HANGING HEART T-LIGHT HOLDER</td>\n",
       "      <td>6</td>\n",
       "      <td>2010-12-01 08:26:00</td>\n",
       "      <td>2.55</td>\n",
       "      <td>17850.0</td>\n",
       "      <td>United Kingdom</td>\n",
       "    </tr>\n",
       "    <tr>\n",
       "      <th>1</th>\n",
       "      <td>536365</td>\n",
       "      <td>71053</td>\n",
       "      <td>WHITE METAL LANTERN</td>\n",
       "      <td>6</td>\n",
       "      <td>2010-12-01 08:26:00</td>\n",
       "      <td>3.39</td>\n",
       "      <td>17850.0</td>\n",
       "      <td>United Kingdom</td>\n",
       "    </tr>\n",
       "    <tr>\n",
       "      <th>2</th>\n",
       "      <td>536365</td>\n",
       "      <td>84406B</td>\n",
       "      <td>CREAM CUPID HEARTS COAT HANGER</td>\n",
       "      <td>8</td>\n",
       "      <td>2010-12-01 08:26:00</td>\n",
       "      <td>2.75</td>\n",
       "      <td>17850.0</td>\n",
       "      <td>United Kingdom</td>\n",
       "    </tr>\n",
       "    <tr>\n",
       "      <th>3</th>\n",
       "      <td>536365</td>\n",
       "      <td>84029G</td>\n",
       "      <td>KNITTED UNION FLAG HOT WATER BOTTLE</td>\n",
       "      <td>6</td>\n",
       "      <td>2010-12-01 08:26:00</td>\n",
       "      <td>3.39</td>\n",
       "      <td>17850.0</td>\n",
       "      <td>United Kingdom</td>\n",
       "    </tr>\n",
       "    <tr>\n",
       "      <th>4</th>\n",
       "      <td>536365</td>\n",
       "      <td>84029E</td>\n",
       "      <td>RED WOOLLY HOTTIE WHITE HEART.</td>\n",
       "      <td>6</td>\n",
       "      <td>2010-12-01 08:26:00</td>\n",
       "      <td>3.39</td>\n",
       "      <td>17850.0</td>\n",
       "      <td>United Kingdom</td>\n",
       "    </tr>\n",
       "  </tbody>\n",
       "</table>\n",
       "</div>"
      ],
      "text/plain": [
       "  InvoiceNo StockCode                          Description  Quantity  \\\n",
       "0    536365    85123A   WHITE HANGING HEART T-LIGHT HOLDER         6   \n",
       "1    536365     71053                  WHITE METAL LANTERN         6   \n",
       "2    536365    84406B       CREAM CUPID HEARTS COAT HANGER         8   \n",
       "3    536365    84029G  KNITTED UNION FLAG HOT WATER BOTTLE         6   \n",
       "4    536365    84029E       RED WOOLLY HOTTIE WHITE HEART.         6   \n",
       "\n",
       "          InvoiceDate  UnitPrice  CustomerID         Country  \n",
       "0 2010-12-01 08:26:00       2.55     17850.0  United Kingdom  \n",
       "1 2010-12-01 08:26:00       3.39     17850.0  United Kingdom  \n",
       "2 2010-12-01 08:26:00       2.75     17850.0  United Kingdom  \n",
       "3 2010-12-01 08:26:00       3.39     17850.0  United Kingdom  \n",
       "4 2010-12-01 08:26:00       3.39     17850.0  United Kingdom  "
      ]
     },
     "execution_count": 2,
     "metadata": {},
     "output_type": "execute_result"
    }
   ],
   "source": [
    "onlineData = pd.read_excel('./Data/Online Retail.xlsx')\n",
    "onlineData.head()"
   ]
  },
  {
   "cell_type": "code",
   "execution_count": 3,
   "id": "destroyed-apparel",
   "metadata": {},
   "outputs": [
    {
     "data": {
      "text/plain": [
       "(541909, 8)"
      ]
     },
     "execution_count": 3,
     "metadata": {},
     "output_type": "execute_result"
    }
   ],
   "source": [
    "onlineData.shape"
   ]
  },
  {
   "cell_type": "markdown",
   "id": "built-front",
   "metadata": {},
   "source": [
    "The dataset contains 541,909 transactions."
   ]
  },
  {
   "cell_type": "markdown",
   "id": "fourth-stadium",
   "metadata": {},
   "source": [
    "#### Handling missing data"
   ]
  },
  {
   "cell_type": "code",
   "execution_count": 4,
   "id": "overall-captain",
   "metadata": {},
   "outputs": [
    {
     "data": {
      "text/plain": [
       "InvoiceNo           0\n",
       "StockCode           0\n",
       "Description      1454\n",
       "Quantity            0\n",
       "InvoiceDate         0\n",
       "UnitPrice           0\n",
       "CustomerID     135080\n",
       "Country             0\n",
       "dtype: int64"
      ]
     },
     "execution_count": 4,
     "metadata": {},
     "output_type": "execute_result"
    }
   ],
   "source": [
    "# check for missing values\n",
    "onlineData.isnull().sum()"
   ]
  },
  {
   "cell_type": "markdown",
   "id": "clinical-target",
   "metadata": {},
   "source": [
    " Since we have sufficient data, we will drop all the rows with missing values."
   ]
  },
  {
   "cell_type": "code",
   "execution_count": 5,
   "id": "subtle-eight",
   "metadata": {},
   "outputs": [
    {
     "data": {
      "text/plain": [
       "InvoiceNo      0\n",
       "StockCode      0\n",
       "Description    0\n",
       "Quantity       0\n",
       "InvoiceDate    0\n",
       "UnitPrice      0\n",
       "CustomerID     0\n",
       "Country        0\n",
       "dtype: int64"
      ]
     },
     "execution_count": 5,
     "metadata": {},
     "output_type": "execute_result"
    }
   ],
   "source": [
    "# remove missing values\n",
    "onlineData.dropna(inplace=True)\n",
    "\n",
    "# again check missing values\n",
    "onlineData.isnull().sum()"
   ]
  },
  {
   "cell_type": "markdown",
   "id": "fewer-summit",
   "metadata": {},
   "source": [
    "#### Data preparation"
   ]
  },
  {
   "cell_type": "markdown",
   "id": "activated-color",
   "metadata": {},
   "source": [
    "Let's convert the StockCode to string datatype."
   ]
  },
  {
   "cell_type": "code",
   "execution_count": 6,
   "id": "continental-perry",
   "metadata": {},
   "outputs": [],
   "source": [
    "onlineData['StockCode']= onlineData['StockCode'].astype(str)"
   ]
  },
  {
   "cell_type": "markdown",
   "id": "particular-shark",
   "metadata": {},
   "source": [
    "Let's check out the number of unique customers in our dataset."
   ]
  },
  {
   "cell_type": "code",
   "execution_count": 7,
   "id": "speaking-argument",
   "metadata": {},
   "outputs": [
    {
     "data": {
      "text/plain": [
       "4372"
      ]
     },
     "execution_count": 7,
     "metadata": {},
     "output_type": "execute_result"
    }
   ],
   "source": [
    "customers = onlineData[\"CustomerID\"].unique().tolist()\n",
    "len(customers)"
   ]
  },
  {
   "cell_type": "markdown",
   "id": "olympic-cable",
   "metadata": {},
   "source": [
    "There are 4,372 customers in our dataset. For each of these customers we will extract their buying history. In other words, we can have 4,372 sequences of purchases.\n",
    "\n",
    "We will use data of 90% of the customers to create word2vec embeddings and the rest for validation. Let's split the data."
   ]
  },
  {
   "cell_type": "code",
   "execution_count": 8,
   "id": "discrete-category",
   "metadata": {},
   "outputs": [],
   "source": [
    "# shuffle customer IDs\n",
    "random.shuffle(customers)\n",
    "\n",
    "# extract 90% of customer IDs\n",
    "customers_train = [customers[i] for i in range(round(0.9*len(customers)))]\n",
    "\n",
    "# split data into train and validation set\n",
    "train_df = onlineData[onlineData['CustomerID'].isin(customers_train)]\n",
    "validation_df = onlineData[~onlineData['CustomerID'].isin(customers_train)]"
   ]
  },
  {
   "cell_type": "markdown",
   "id": "polish-nickname",
   "metadata": {},
   "source": [
    "Let's create sequences of purchases made by the customers in the dataset for both the train and validation set."
   ]
  },
  {
   "cell_type": "code",
   "execution_count": 9,
   "id": "naval-copyright",
   "metadata": {},
   "outputs": [
    {
     "name": "stderr",
     "output_type": "stream",
     "text": [
      "100%|█████████████████████████████████████████████████████████████████████████████| 3935/3935 [00:08<00:00, 441.51it/s]\n"
     ]
    }
   ],
   "source": [
    "# list to capture purchase history of the training set customers\n",
    "purchases_train = []\n",
    "\n",
    "# populate the list with the product codes\n",
    "for i in tqdm(customers_train):\n",
    "    temp = train_df[train_df[\"CustomerID\"] == i][\"StockCode\"].tolist()\n",
    "    purchases_train.append(temp)"
   ]
  },
  {
   "cell_type": "code",
   "execution_count": 10,
   "id": "specialized-brand",
   "metadata": {},
   "outputs": [
    {
     "name": "stderr",
     "output_type": "stream",
     "text": [
      "100%|███████████████████████████████████████████████████████████████████████████████| 437/437 [00:00<00:00, 673.50it/s]\n"
     ]
    }
   ],
   "source": [
    "# list to capture purchase history of the validation set customers\n",
    "purchases_val = []\n",
    "\n",
    "# populate the list with the product codes\n",
    "for i in tqdm(validation_df['CustomerID'].unique()):\n",
    "    temp = validation_df[validation_df[\"CustomerID\"] == i][\"StockCode\"].tolist()\n",
    "    purchases_val.append(temp)"
   ]
  },
  {
   "cell_type": "markdown",
   "id": "settled-horror",
   "metadata": {},
   "source": [
    "#### Build word2vec embeddings for products"
   ]
  },
  {
   "cell_type": "code",
   "execution_count": 11,
   "id": "charitable-arkansas",
   "metadata": {},
   "outputs": [
    {
     "data": {
      "text/plain": [
       "(3552437, 3590920)"
      ]
     },
     "execution_count": 11,
     "metadata": {},
     "output_type": "execute_result"
    }
   ],
   "source": [
    "# train word2vec model\n",
    "model = Word2Vec(window = 10, sg = 1, hs = 0,\n",
    "                 negative = 10, # for negative sampling\n",
    "                 alpha = 0.03, min_alpha = 0.0007,\n",
    "                 seed = 14)\n",
    "\n",
    "model.build_vocab(purchases_train, progress_per=200)\n",
    "\n",
    "model.train(purchases_train, total_examples = model.corpus_count, epochs = 10, report_delay = 1)"
   ]
  },
  {
   "cell_type": "code",
   "execution_count": 12,
   "id": "activated-eating",
   "metadata": {},
   "outputs": [],
   "source": [
    "# save word2vec model\n",
    "model.save(\"word2vec_2.model\")"
   ]
  },
  {
   "cell_type": "markdown",
   "id": "opposite-athens",
   "metadata": {},
   "source": [
    "As we do not plan to train the model any further, we are calling init_sims(), which will make the model much more memory-efficient."
   ]
  },
  {
   "cell_type": "code",
   "execution_count": 13,
   "id": "falling-spanking",
   "metadata": {},
   "outputs": [
    {
     "name": "stdout",
     "output_type": "stream",
     "text": [
      "Word2Vec(vocab=3156, size=100, alpha=0.03)\n"
     ]
    }
   ],
   "source": [
    "model.init_sims(replace=True)\n",
    "print(model)"
   ]
  },
  {
   "cell_type": "markdown",
   "id": "surgical-tyler",
   "metadata": {},
   "source": [
    "Now we will extract the vectors of all the words in our vocabulary and store it in one place for easy access."
   ]
  },
  {
   "cell_type": "code",
   "execution_count": 14,
   "id": "recreational-structure",
   "metadata": {},
   "outputs": [
    {
     "data": {
      "text/plain": [
       "(3156, 100)"
      ]
     },
     "execution_count": 14,
     "metadata": {},
     "output_type": "execute_result"
    }
   ],
   "source": [
    "# extract all vectors\n",
    "X = model[model.wv.vocab]\n",
    "\n",
    "X.shape"
   ]
  },
  {
   "cell_type": "markdown",
   "id": "specific-billion",
   "metadata": {},
   "source": [
    "#### Visualize word2vec embeddings "
   ]
  },
  {
   "cell_type": "markdown",
   "id": "indian-wellington",
   "metadata": {},
   "source": [
    "For sake of visualization, we are going to reduce the dimensions of the product embeddings from 100 to 2 by using the UMAP algorithm, it is used for dimensionality reduction."
   ]
  },
  {
   "cell_type": "code",
   "execution_count": 15,
   "id": "fleet-compromise",
   "metadata": {},
   "outputs": [
    {
     "data": {
      "text/plain": [
       "<matplotlib.collections.PathCollection at 0x16bfa7dd748>"
      ]
     },
     "execution_count": 15,
     "metadata": {},
     "output_type": "execute_result"
    },
    {
     "data": {
      "image/png": "[encoded data removed]",
      "text/plain": [
       "<Figure size 720x648 with 1 Axes>"
      ]
     },
     "metadata": {
      "needs_background": "light"
     },
     "output_type": "display_data"
    }
   ],
   "source": [
    "import umap.umap_ as umap\n",
    "\n",
    "cluster_embedding = umap.UMAP(n_neighbors=30, min_dist=0.0,\n",
    "                              n_components=2, random_state=42).fit_transform(X)\n",
    "\n",
    "plt.figure(figsize=(10,9))\n",
    "plt.scatter(cluster_embedding[:, 0], cluster_embedding[:, 1], s=3, cmap='Spectral')"
   ]
  },
  {
   "cell_type": "markdown",
   "id": "inner-oxygen",
   "metadata": {},
   "source": [
    "Every dot in this plot is a product. There are several tiny clusters of these datapoints. These are groups of similar products."
   ]
  },
  {
   "cell_type": "markdown",
   "id": "turned-statistics",
   "metadata": {},
   "source": [
    "#### Recommending Products"
   ]
  },
  {
   "cell_type": "markdown",
   "id": "little-contact",
   "metadata": {},
   "source": [
    "We are ready with the word2vec embeddings for every product in the online retail dataset. Now our next step is to suggest similar products for a certain product or a product's vector."
   ]
  },
  {
   "cell_type": "markdown",
   "id": "eastern-riverside",
   "metadata": {},
   "source": [
    "Let's first create a product-ID and product-description dictionary to easily map a product's description to its ID and vice versa."
   ]
  },
  {
   "cell_type": "code",
   "execution_count": 16,
   "id": "finite-origin",
   "metadata": {},
   "outputs": [],
   "source": [
    "products = train_df[[\"StockCode\", \"Description\"]]\n",
    "\n",
    "# remove duplicates\n",
    "products.drop_duplicates(inplace=True, subset='StockCode', keep=\"last\")\n",
    "\n",
    "# create product-ID and product-description dictionary\n",
    "products_dict = products.groupby('StockCode')['Description'].apply(list).to_dict()"
   ]
  },
  {
   "cell_type": "code",
   "execution_count": 17,
   "id": "expensive-position",
   "metadata": {},
   "outputs": [
    {
     "data": {
      "text/plain": [
       "['RED WOOLLY HOTTIE WHITE HEART.']"
      ]
     },
     "execution_count": 17,
     "metadata": {},
     "output_type": "execute_result"
    }
   ],
   "source": [
    "# test the dictionary\n",
    "products_dict['84029E']"
   ]
  },
  {
   "cell_type": "markdown",
   "id": "temporal-record",
   "metadata": {},
   "source": [
    "Top 6 similar products"
   ]
  },
  {
   "cell_type": "code",
   "execution_count": 18,
   "id": "dangerous-israeli",
   "metadata": {},
   "outputs": [],
   "source": [
    "def similar_products(v, n = 6):\n",
    "    \n",
    "    # extract most similar products for the input vector\n",
    "    ms = model.similar_by_vector(v, topn=n+1)[1:]\n",
    "    \n",
    "    # extract name and similarity score of the similar products\n",
    "    new_ms = []\n",
    "    for j in ms:\n",
    "        pair = (products_dict[j[0]][0], j[1])\n",
    "        new_ms.append(pair)\n",
    "        \n",
    "    return new_ms"
   ]
  },
  {
   "cell_type": "markdown",
   "id": "seasonal-productivity",
   "metadata": {},
   "source": [
    "Let's try out our function by passing the vector of the product '90019A' ('SILVER M.O.P ORBIT BRACELET')"
   ]
  },
  {
   "cell_type": "code",
   "execution_count": 19,
   "id": "silent-ladder",
   "metadata": {},
   "outputs": [
    {
     "data": {
      "text/plain": [
       "[('ANT COPPER RED BOUDICCA BRACELET', 0.7822684645652771),\n",
       " ('AMBER DROP EARRINGS W LONG BEADS', 0.7656006217002869),\n",
       " ('PINK BOUDICCA LARGE BRACELET', 0.761540949344635),\n",
       " ('DROP DIAMANTE EARRINGS PURPLE', 0.7525368332862854),\n",
       " ('BLUE MURANO TWIST BRACELET', 0.7518712878227234),\n",
       " ('SILVER LARIAT BLACK STONE EARRINGS', 0.7499581575393677)]"
      ]
     },
     "execution_count": 19,
     "metadata": {},
     "output_type": "execute_result"
    }
   ],
   "source": [
    "similar_products(model['90019A'])"
   ]
  },
  {
   "cell_type": "markdown",
   "id": "breeding-forth",
   "metadata": {},
   "source": [
    "The results are pretty relevant and match well with the input product. However, this output is based on the vector of a single product only. What if we want recommend a user products based on the multiple purchases they have made in the past?\n",
    "\n",
    "One simple solution is to take average of all the vectors of the products they bought so far and use this resultant vector to find similar products. For that we will use the function below that takes in a list of product IDs and gives out a 100 dimensional vector which is mean of vectors of the products in the input list."
   ]
  },
  {
   "cell_type": "code",
   "execution_count": 20,
   "id": "colored-string",
   "metadata": {},
   "outputs": [],
   "source": [
    "def aggregate_vectors(products):\n",
    "    product_vec = []\n",
    "    for i in products:\n",
    "        try:\n",
    "            product_vec.append(model[i])\n",
    "        except KeyError:\n",
    "            continue\n",
    "        \n",
    "    return np.mean(product_vec, axis=0)"
   ]
  },
  {
   "cell_type": "markdown",
   "id": "damaged-sauce",
   "metadata": {},
   "source": [
    "We will pass this products' sequence of the validation set to the function aggregate_vectors."
   ]
  },
  {
   "cell_type": "code",
   "execution_count": 21,
   "id": "cooked-standing",
   "metadata": {},
   "outputs": [
    {
     "data": {
      "text/plain": [
       "[('CHOCOLATE HOT WATER BOTTLE', 0.653756856918335),\n",
       " ('HOT WATER BOTTLE KEEP CALM', 0.6459493041038513),\n",
       " ('HOT WATER BOTTLE I AM SO POORLY', 0.6394602060317993),\n",
       " ('SCOTTIE DOG HOT WATER BOTTLE', 0.6332569122314453),\n",
       " ('PLEASE ONE PERSON METAL SIGN', 0.6266429424285889),\n",
       " (\"I'M ON HOLIDAY METAL SIGN\", 0.6261299252510071)]"
      ]
     },
     "execution_count": 21,
     "metadata": {},
     "output_type": "execute_result"
    }
   ],
   "source": [
    "similar_products(aggregate_vectors(purchases_val[0]))"
   ]
  },
  {
   "cell_type": "markdown",
   "id": "assured-romantic",
   "metadata": {},
   "source": [
    "The system has recommended 6 products based on the entire purchase history of a user. Moreover, if you want to get products suggestions based on just the last few purchases then we can use the same set of functions.\n",
    "\n",
    "For the last 10 products purchased as input:"
   ]
  },
  {
   "cell_type": "code",
   "execution_count": 22,
   "id": "composed-luxury",
   "metadata": {},
   "outputs": [
    {
     "data": {
      "text/plain": [
       "[('HOT WATER BOTTLE TEA AND SYMPATHY', 0.8783085346221924),\n",
       " ('HOT WATER BOTTLE KEEP CALM', 0.8627409934997559),\n",
       " ('SCOTTIE DOG HOT WATER BOTTLE', 0.8611298203468323),\n",
       " ('HOT WATER BOTTLE I AM SO POORLY', 0.8423911333084106),\n",
       " ('RETROSPOT HEART HOT WATER BOTTLE', 0.8377293944358826),\n",
       " ('LOVE HOT WATER BOTTLE', 0.8100992441177368)]"
      ]
     },
     "execution_count": 22,
     "metadata": {},
     "output_type": "execute_result"
    }
   ],
   "source": [
    "similar_products(aggregate_vectors(purchases_val[0][-10:]))"
   ]
  },
  {
   "cell_type": "markdown",
   "id": "democratic-approval",
   "metadata": {},
   "source": [
    "We do see different products are recommended using the subset of the purchases history."
   ]
  }
 ],
 "metadata": {
  "kernelspec": {
   "display_name": "Python 3",
   "language": "python",
   "name": "python3"
  },
  "language_info": {
   "codemirror_mode": {
    "name": "ipython",
    "version": 3
   },
   "file_extension": ".py",
   "mimetype": "text/x-python",
   "name": "python",
   "nbconvert_exporter": "python",
   "pygments_lexer": "ipython3",
   "version": "3.7.10"
  }
 },
 "nbformat": 4,
 "nbformat_minor": 5
}
